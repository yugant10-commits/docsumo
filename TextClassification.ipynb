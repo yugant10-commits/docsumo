{
  "nbformat": 4,
  "nbformat_minor": 0,
  "metadata": {
    "colab": {
      "name": "TextClassification.ipynb",
      "provenance": [],
      "authorship_tag": "ABX9TyMtry4yFyw2RuV09+qo06Pr",
      "include_colab_link": true
    },
    "kernelspec": {
      "name": "python3",
      "display_name": "Python 3"
    },
    "language_info": {
      "name": "python"
    }
  },
  "cells": [
    {
      "cell_type": "markdown",
      "metadata": {
        "id": "view-in-github",
        "colab_type": "text"
      },
      "source": [
        "<a href=\"https://colab.research.google.com/github/yugant10-commits/docsumo/blob/master/TextClassification.ipynb\" target=\"_parent\"><img src=\"https://colab.research.google.com/assets/colab-badge.svg\" alt=\"Open In Colab\"/></a>"
      ]
    },
    {
      "cell_type": "code",
      "metadata": {
        "id": "vAWn17GXYQeE"
      },
      "source": [
        "import pandas as pd\n",
        "import matplotlib.pyplot as plt\n",
        "from sklearn.model_selection import train_test_split\n",
        "from sklearn.naive_bayes import MultinomialNB\n",
        "from sklearn.feature_extraction.text import TfidfVectorizer\n",
        "from sklearn.metrics import accuracy_score\n",
        "from imblearn.pipeline import Pipeline\n",
        "from imblearn.over_sampling import SMOTE"
      ],
      "execution_count": 56,
      "outputs": []
    },
    {
      "cell_type": "code",
      "metadata": {
        "id": "xNpSDTMIag5j"
      },
      "source": [
        "#Function to read csv with particulur encoding and remove duplicate rows.\n",
        "\n",
        "def read_pipeline(file_name):\n",
        "  df = pd.read_csv(file_name, encoding='unicode_escape')\n",
        "  clean_df = df.drop_duplicates(subset = 'text',\n",
        "                     keep = 'last')\n",
        "  return clean_df\n"
      ],
      "execution_count": 53,
      "outputs": []
    },
    {
      "cell_type": "code",
      "metadata": {
        "colab": {
          "base_uri": "https://localhost:8080/",
          "height": 204
        },
        "id": "-uZPwst7axT4",
        "outputId": "0e37b332-638d-46c7-b5c9-9ccad76b9738"
      },
      "source": [
        "train_df = read_pipeline('train_set.csv')\n",
        "train_df.head()"
      ],
      "execution_count": 66,
      "outputs": [
        {
          "output_type": "execute_result",
          "data": {
            "text/html": [
              "<div>\n",
              "<style scoped>\n",
              "    .dataframe tbody tr th:only-of-type {\n",
              "        vertical-align: middle;\n",
              "    }\n",
              "\n",
              "    .dataframe tbody tr th {\n",
              "        vertical-align: top;\n",
              "    }\n",
              "\n",
              "    .dataframe thead th {\n",
              "        text-align: right;\n",
              "    }\n",
              "</style>\n",
              "<table border=\"1\" class=\"dataframe\">\n",
              "  <thead>\n",
              "    <tr style=\"text-align: right;\">\n",
              "      <th></th>\n",
              "      <th>label</th>\n",
              "      <th>text</th>\n",
              "    </tr>\n",
              "  </thead>\n",
              "  <tbody>\n",
              "    <tr>\n",
              "      <th>0</th>\n",
              "      <td>85389000</td>\n",
              "      <td>pdscpm gb part of panel of chiller</td>\n",
              "    </tr>\n",
              "    <tr>\n",
              "      <th>1</th>\n",
              "      <td>85389000</td>\n",
              "      <td>nm  p economical extended rot hand parts for c...</td>\n",
              "    </tr>\n",
              "    <tr>\n",
              "      <th>5</th>\n",
              "      <td>85389000</td>\n",
              "      <td>sleeve joint ip kseya</td>\n",
              "    </tr>\n",
              "    <tr>\n",
              "      <th>10</th>\n",
              "      <td>85389000</td>\n",
              "      <td>small controller panel for process controller...</td>\n",
              "    </tr>\n",
              "    <tr>\n",
              "      <th>11</th>\n",
              "      <td>85389000</td>\n",
              "      <td>a compact fuseholder nwcmf electrical fuse lin...</td>\n",
              "    </tr>\n",
              "  </tbody>\n",
              "</table>\n",
              "</div>"
            ],
            "text/plain": [
              "       label                                               text\n",
              "0   85389000                 pdscpm gb part of panel of chiller\n",
              "1   85389000  nm  p economical extended rot hand parts for c...\n",
              "5   85389000                              sleeve joint ip kseya\n",
              "10  85389000   small controller panel for process controller...\n",
              "11  85389000  a compact fuseholder nwcmf electrical fuse lin..."
            ]
          },
          "metadata": {},
          "execution_count": 66
        }
      ]
    },
    {
      "cell_type": "code",
      "metadata": {
        "colab": {
          "base_uri": "https://localhost:8080/"
        },
        "id": "6N9QxbnCeBMD",
        "outputId": "2be8c42a-7483-4bf8-988d-7e37efbb0460"
      },
      "source": [
        "\n",
        "pd.value_counts(train_df['label'])"
      ],
      "execution_count": 68,
      "outputs": [
        {
          "output_type": "execute_result",
          "data": {
            "text/plain": [
              "39269099    1624\n",
              "85177090    1607\n",
              "85389000    1556\n",
              "73181500    1274\n",
              "85369090    1259\n",
              "85366990    1034\n",
              "87089900     786\n",
              "84713010     564\n",
              "87082900     549\n",
              "33041000     547\n",
              "85364900     455\n",
              "85238090      93\n",
              "Name: label, dtype: int64"
            ]
          },
          "metadata": {},
          "execution_count": 68
        }
      ]
    },
    {
      "cell_type": "code",
      "metadata": {
        "colab": {
          "base_uri": "https://localhost:8080/"
        },
        "id": "NZ-07QOYg0pM",
        "outputId": "f57b38a8-b43f-4cdc-85ca-ae17964f7cfe"
      },
      "source": [
        "train_df.isnull().sum()"
      ],
      "execution_count": 55,
      "outputs": [
        {
          "output_type": "execute_result",
          "data": {
            "text/plain": [
              "label    0\n",
              "text     0\n",
              "dtype: int64"
            ]
          },
          "metadata": {},
          "execution_count": 55
        }
      ]
    },
    {
      "cell_type": "code",
      "metadata": {
        "id": "L2HXSKTzWY0g"
      },
      "source": [
        "text_pipeline = Pipeline([\n",
        "                          ('tfidf', TfidfVectorizer()),\n",
        "                          ('smote', SMOTE(random_state=42)), \n",
        "                          ('mnb', MultinomialNB())\n",
        "])"
      ],
      "execution_count": 38,
      "outputs": []
    },
    {
      "cell_type": "code",
      "metadata": {
        "id": "U4pIjH88Xmw0"
      },
      "source": [
        "x_train, x_test, y_train, y_test = train_test_split(train_df['text'],\n",
        "                                                    train_df['label'],\n",
        "                                                    test_size = 0.2,\n",
        "                                                    )"
      ],
      "execution_count": 60,
      "outputs": []
    },
    {
      "cell_type": "code",
      "metadata": {
        "id": "eP1qTDnUYMpz"
      },
      "source": [
        "model = text_pipeline.fit(x_train, y_train)\n",
        "y_pred = model.predict(x_test)"
      ],
      "execution_count": null,
      "outputs": []
    },
    {
      "cell_type": "code",
      "metadata": {
        "colab": {
          "base_uri": "https://localhost:8080/"
        },
        "id": "TmfPR-rBYyse",
        "outputId": "c006de55-36c2-4400-c5cf-65680beedc52"
      },
      "source": [
        "accuracy = accuracy_score(y_test, y_pred)\n",
        "print('Accuracy on test dataset:', accuracy)"
      ],
      "execution_count": 62,
      "outputs": [
        {
          "output_type": "stream",
          "name": "stdout",
          "text": [
            "Accuracy on test dataset: 0.8004405286343612\n"
          ]
        }
      ]
    },
    {
      "cell_type": "code",
      "metadata": {
        "colab": {
          "base_uri": "https://localhost:8080/",
          "height": 204
        },
        "id": "tVe8XxM9aTGs",
        "outputId": "fa9ffa37-cd3d-4578-f113-75be11bc6cf1"
      },
      "source": [
        "test_df = read_pipeline('test_set.csv')\n",
        "test_df.head()"
      ],
      "execution_count": 65,
      "outputs": [
        {
          "output_type": "execute_result",
          "data": {
            "text/html": [
              "<div>\n",
              "<style scoped>\n",
              "    .dataframe tbody tr th:only-of-type {\n",
              "        vertical-align: middle;\n",
              "    }\n",
              "\n",
              "    .dataframe tbody tr th {\n",
              "        vertical-align: top;\n",
              "    }\n",
              "\n",
              "    .dataframe thead th {\n",
              "        text-align: right;\n",
              "    }\n",
              "</style>\n",
              "<table border=\"1\" class=\"dataframe\">\n",
              "  <thead>\n",
              "    <tr style=\"text-align: right;\">\n",
              "      <th></th>\n",
              "      <th>text</th>\n",
              "    </tr>\n",
              "  </thead>\n",
              "  <tbody>\n",
              "    <tr>\n",
              "      <th>3</th>\n",
              "      <td>parts of relayelectrical contact  issu e f xxup</td>\n",
              "    </tr>\n",
              "    <tr>\n",
              "      <th>4</th>\n",
              "      <td>parts for programmable logic controllers  dm  ...</td>\n",
              "    </tr>\n",
              "    <tr>\n",
              "      <th>6</th>\n",
              "      <td>nmsp ext rotary handle mech parts for circuit ...</td>\n",
              "    </tr>\n",
              "    <tr>\n",
              "      <th>8</th>\n",
              "      <td>element  sh   electrical fuse links  actual user</td>\n",
              "    </tr>\n",
              "    <tr>\n",
              "      <th>9</th>\n",
              "      <td>uxab ra kit connec xk xsuppaux xprrce parts fo...</td>\n",
              "    </tr>\n",
              "  </tbody>\n",
              "</table>\n",
              "</div>"
            ],
            "text/plain": [
              "                                                text\n",
              "3    parts of relayelectrical contact  issu e f xxup\n",
              "4  parts for programmable logic controllers  dm  ...\n",
              "6  nmsp ext rotary handle mech parts for circuit ...\n",
              "8  element  sh   electrical fuse links  actual user \n",
              "9  uxab ra kit connec xk xsuppaux xprrce parts fo..."
            ]
          },
          "metadata": {},
          "execution_count": 65
        }
      ]
    },
    {
      "cell_type": "code",
      "metadata": {
        "colab": {
          "base_uri": "https://localhost:8080/"
        },
        "id": "v9EJqa5DZpos",
        "outputId": "fdaf9200-8973-4035-a038-e162d185f022"
      },
      "source": [
        "y_pred = model.predict(test_df['text'])\n"
      ],
      "execution_count": 70,
      "outputs": [
        {
          "output_type": "execute_result",
          "data": {
            "text/plain": [
              "array([85389000, 85389000, 85389000, ..., 84713010, 84713010, 84713010])"
            ]
          },
          "metadata": {},
          "execution_count": 70
        }
      ]
    },
    {
      "cell_type": "code",
      "metadata": {
        "id": "hAjYOxdMebxy"
      },
      "source": [
        "test_pred_df = pd.DataFrame(y_pred, columns = ['Predicted Label'])\n",
        "test_pred_df['text'] = test_df['text']"
      ],
      "execution_count": 73,
      "outputs": []
    },
    {
      "cell_type": "code",
      "metadata": {
        "id": "9oqfRYCifRPa"
      },
      "source": [
        "test_pred_df.to_csv('prediction_submission.csv')"
      ],
      "execution_count": 75,
      "outputs": []
    }
  ]
}